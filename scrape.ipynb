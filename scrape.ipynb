{
  "nbformat": 4,
  "nbformat_minor": 0,
  "metadata": {
    "colab": {
      "provenance": []
    },
    "kernelspec": {
      "name": "python3",
      "display_name": "Python 3"
    },
    "language_info": {
      "name": "python"
    }
  },
  "cells": [
    {
      "cell_type": "code",
      "source": [
        "pip install google-api-python-client"
      ],
      "metadata": {
        "colab": {
          "base_uri": "https://localhost:8080/"
        },
        "id": "I9Rgm5ttbIpk",
        "outputId": "3b38470f-ab8d-4038-a08a-558ef571adf0"
      },
      "execution_count": null,
      "outputs": [
        {
          "output_type": "stream",
          "name": "stdout",
          "text": [
            "Requirement already satisfied: google-api-python-client in /usr/local/lib/python3.10/dist-packages (2.137.0)\n",
            "Requirement already satisfied: httplib2<1.dev0,>=0.19.0 in /usr/local/lib/python3.10/dist-packages (from google-api-python-client) (0.22.0)\n",
            "Requirement already satisfied: google-auth!=2.24.0,!=2.25.0,<3.0.0.dev0,>=1.32.0 in /usr/local/lib/python3.10/dist-packages (from google-api-python-client) (2.27.0)\n",
            "Requirement already satisfied: google-auth-httplib2<1.0.0,>=0.2.0 in /usr/local/lib/python3.10/dist-packages (from google-api-python-client) (0.2.0)\n",
            "Requirement already satisfied: google-api-core!=2.0.*,!=2.1.*,!=2.2.*,!=2.3.0,<3.0.0.dev0,>=1.31.5 in /usr/local/lib/python3.10/dist-packages (from google-api-python-client) (2.19.2)\n",
            "Requirement already satisfied: uritemplate<5,>=3.0.1 in /usr/local/lib/python3.10/dist-packages (from google-api-python-client) (4.1.1)\n",
            "Requirement already satisfied: googleapis-common-protos<2.0.dev0,>=1.56.2 in /usr/local/lib/python3.10/dist-packages (from google-api-core!=2.0.*,!=2.1.*,!=2.2.*,!=2.3.0,<3.0.0.dev0,>=1.31.5->google-api-python-client) (1.65.0)\n",
            "Requirement already satisfied: protobuf!=3.20.0,!=3.20.1,!=4.21.0,!=4.21.1,!=4.21.2,!=4.21.3,!=4.21.4,!=4.21.5,<6.0.0.dev0,>=3.19.5 in /usr/local/lib/python3.10/dist-packages (from google-api-core!=2.0.*,!=2.1.*,!=2.2.*,!=2.3.0,<3.0.0.dev0,>=1.31.5->google-api-python-client) (3.20.3)\n",
            "Requirement already satisfied: proto-plus<2.0.0dev,>=1.22.3 in /usr/local/lib/python3.10/dist-packages (from google-api-core!=2.0.*,!=2.1.*,!=2.2.*,!=2.3.0,<3.0.0.dev0,>=1.31.5->google-api-python-client) (1.24.0)\n",
            "Requirement already satisfied: requests<3.0.0.dev0,>=2.18.0 in /usr/local/lib/python3.10/dist-packages (from google-api-core!=2.0.*,!=2.1.*,!=2.2.*,!=2.3.0,<3.0.0.dev0,>=1.31.5->google-api-python-client) (2.32.3)\n",
            "Requirement already satisfied: cachetools<6.0,>=2.0.0 in /usr/local/lib/python3.10/dist-packages (from google-auth!=2.24.0,!=2.25.0,<3.0.0.dev0,>=1.32.0->google-api-python-client) (5.5.0)\n",
            "Requirement already satisfied: pyasn1-modules>=0.2.1 in /usr/local/lib/python3.10/dist-packages (from google-auth!=2.24.0,!=2.25.0,<3.0.0.dev0,>=1.32.0->google-api-python-client) (0.4.1)\n",
            "Requirement already satisfied: rsa<5,>=3.1.4 in /usr/local/lib/python3.10/dist-packages (from google-auth!=2.24.0,!=2.25.0,<3.0.0.dev0,>=1.32.0->google-api-python-client) (4.9)\n",
            "Requirement already satisfied: pyparsing!=3.0.0,!=3.0.1,!=3.0.2,!=3.0.3,<4,>=2.4.2 in /usr/local/lib/python3.10/dist-packages (from httplib2<1.dev0,>=0.19.0->google-api-python-client) (3.2.0)\n",
            "Requirement already satisfied: pyasn1<0.7.0,>=0.4.6 in /usr/local/lib/python3.10/dist-packages (from pyasn1-modules>=0.2.1->google-auth!=2.24.0,!=2.25.0,<3.0.0.dev0,>=1.32.0->google-api-python-client) (0.6.1)\n",
            "Requirement already satisfied: charset-normalizer<4,>=2 in /usr/local/lib/python3.10/dist-packages (from requests<3.0.0.dev0,>=2.18.0->google-api-core!=2.0.*,!=2.1.*,!=2.2.*,!=2.3.0,<3.0.0.dev0,>=1.31.5->google-api-python-client) (3.4.0)\n",
            "Requirement already satisfied: idna<4,>=2.5 in /usr/local/lib/python3.10/dist-packages (from requests<3.0.0.dev0,>=2.18.0->google-api-core!=2.0.*,!=2.1.*,!=2.2.*,!=2.3.0,<3.0.0.dev0,>=1.31.5->google-api-python-client) (3.10)\n",
            "Requirement already satisfied: urllib3<3,>=1.21.1 in /usr/local/lib/python3.10/dist-packages (from requests<3.0.0.dev0,>=2.18.0->google-api-core!=2.0.*,!=2.1.*,!=2.2.*,!=2.3.0,<3.0.0.dev0,>=1.31.5->google-api-python-client) (2.2.3)\n",
            "Requirement already satisfied: certifi>=2017.4.17 in /usr/local/lib/python3.10/dist-packages (from requests<3.0.0.dev0,>=2.18.0->google-api-core!=2.0.*,!=2.1.*,!=2.2.*,!=2.3.0,<3.0.0.dev0,>=1.31.5->google-api-python-client) (2024.8.30)\n"
          ]
        }
      ]
    },
    {
      "cell_type": "code",
      "execution_count": null,
      "metadata": {
        "colab": {
          "base_uri": "https://localhost:8080/"
        },
        "id": "iHQmCCEialan",
        "outputId": "3f805213-6282-4886-fb0b-d8ea0c5cecfc"
      },
      "outputs": [
        {
          "output_type": "stream",
          "name": "stdout",
          "text": [
            "Total komentar yang difilter: 30\n",
            "Ya kalo sekedar sedekah ya kasih jablay yatim juga gapapa , <br><br>Asal ga di pake anjirrr 😂😂😂\n",
            "Ga Susah Tinggal lu nya Aja Sangean Makanya Susah\n",
            "ya gk usah jaksel , dmn² udh susah , cewek perawan jg susah , gmn gk susah ,yg bujang blm kebagian udh diembat sama yg tua² , pada gk cukup istri 1 , bawa² sunnah rasul , tp maunya ama yg bening² doang yg butek disisain 😂😂\n",
            "susah jadi perjaka di jaksel ??? dih LEMAH\n",
            "ah susah ala... u nya aja yg goblok ...<br>pilih temen yg baik ... temen baik banyak kok...\n",
            "Susah untuk pansos\n",
            "Jng free sex nanti kena penyakit<br> Sex tu susah sembuhinya bahkan ga ada obatnya baru tau rasanya  nanti nyesel tuh diakhir  selagi bisa menjadi diri  dijaga baik baik tubuh kita titipan Tuhan\n",
            "Gue di Bukit Duri Jakarta Selatan alhamdulillah samping kanan Majelis Ta&#39;lim sama pondok pesantren, tetangga banyak yg Habaib alhamdulillah berkah di Jaksel Khusus nya Bukit Duri\n",
            "Yaudah tinggal kasih ke jablay, tapi gausah di pake, simple kan? 🤣\n",
            "Smeoga kita semua Istiqomah untuk tetap virgin sampe nanti halal, apapun agamanya\n",
            "Susah lah kalo otak lu uda rusak dan jauh dari agama tambah lingkungan yg rusak....\n",
            "Susah bos nyari yg perawan di jaksel hehe\n",
            "&quot;Jadi perjaka susah di jaksel&quot;<br>Gua yang jelek dan broke bilaik : 😎\n",
            "Semoga yg pada nonton ini ngga mengambil poin bahwa free sex wajar, banyak yg melakukan, dan keren sih. Semoga masuknya kena sindir kata2 mending buat yg membutuhkan. <br>Soalnya masalah persepsi, masalah kita mau ngartiinnya gimana, itu tergantung kita, dan itu susah kalo lingkungan kita (termasuk lingkungan jauh alias yg kita tonton) udah corrupted\n",
            "Susah... susah...\n",
            "dark jokes wkwk\n",
            "sama kayak jawaban temen gw....katanya jablay kalo gak dipake..kasian...nanti anaknya gak bisa minum susu\n",
            "2tahun di jaksel, Alhamdulillah lolos, entah gue nya yang bener&quot; baik atau gw ny emang bego 🤣\n",
            "Justru karna awal nya orang susah makanya jdi jablay\n",
            "Iya sih susah bgt nahan perjaka di jaksel wkwk\n",
            "Dan jokes ini sudah dibawain ust wijayanto bertahun2 yg lalu 🙈\n",
            "Cringe\n",
            "Epic Sih Pembawaan Jokes² Yg Ikut Somasi Om Ded\n",
            "Yooi benar, susah memang jadi perjaka di Jagsel. Bayangin aja, selangkangan kebuka dimana-mana wkwkk😂\n",
            "Temen ngent0t, toxicnya parah🤣\n",
            "Omongannya pedes tapi relate wkwwk\n",
            "Bukan susah sih, rakyat Indonesia terlalu bodoh, gampang banget ditipu media.\n",
            "Wkkkk susahh\n",
            "Relate sih. Dari kawan penghasut, jablay butuh buat biaya hidup, jablay yatim. moga gak ada yg tersinggung\n",
            "sumpah ini relate hahahahah best materinya\n"
          ]
        }
      ],
      "source": [
        "from googleapiclient.discovery import build\n",
        "\n",
        "api_key = 'YOUR_API_KEY'\n",
        "\n",
        "# objek service untuk YouTube API\n",
        "youtube = build('youtube', 'v3', developerKey=api_key)\n",
        "\n",
        "# ID video YouTube yang ingin di-scrape\n",
        "video_id = 'MSIqvJwWx8s'\n",
        "\n",
        "# Daftar kata kunci bahasa gaul yang akan diambil\n",
        "keywords = [\"fomo\", \"baper\", \"yolo\", \"flexing\", \"ytta\", \"healing\", \"red flag\", \"follow up\", \"fyi\", \"bilek\", \"be like\", \"freak\", \"cmiiw\", \"imo\", \"slay\", \"glow up\", \"glowing\", \"gamon\",\n",
        "            \"salty\", \"simp\", \"bjir\", \"spill the tea\", \"clingy\", \"cegil\", \"ghosting\", \"kalcer\", \"jokes\", \"toxic\", \"denial\", \"hidden gems\", \"irl\", \"cringe\", \"sus\", \"ygy\", \"bucin\", \"famous\",\n",
        "            \"oot\", \"pap\", \"ootd\", \"which is\", \"badmood\", \"trust issue\", \"lol\", \"cogil\", \"ovt\", \"relate\", \"chuaks\", \"chuak\", \"jujurly\", \"bestie\", \"staycation\", \"chuakz\", \"lowkey\", \"deep talk\",\n",
        "            \"tbl\", \"literally\"]\n",
        "\n",
        "# Fungsi untuk mengambil komentar dari video\n",
        "def get_video_comments(youtube, video_id):\n",
        "    comments = []\n",
        "    request = youtube.commentThreads().list(\n",
        "        part=\"snippet\",\n",
        "        videoId=video_id,\n",
        "        maxResults=100  # Maksimal 100 komentar per request\n",
        "    )\n",
        "    response = request.execute()\n",
        "\n",
        "    while response:\n",
        "        for item in response['items']:\n",
        "            comment = item['snippet']['topLevelComment']['snippet']['textDisplay']\n",
        "            comments.append(comment)\n",
        "\n",
        "        # Jika ada lebih banyak komentar, lanjutkan paginasi\n",
        "        if 'nextPageToken' in response:\n",
        "            request = youtube.commentThreads().list(\n",
        "                part=\"snippet\",\n",
        "                videoId=video_id,\n",
        "                pageToken=response['nextPageToken'],\n",
        "                maxResults=100\n",
        "            )\n",
        "            response = request.execute()\n",
        "        else:\n",
        "            break\n",
        "\n",
        "    return comments\n",
        "\n",
        "# Fungsi untuk memfilter komentar berdasarkan kata kunci\n",
        "def filter_comments(comments, keywords):\n",
        "    filtered_comments = [comment for comment in comments if any(keyword in comment.lower() for keyword in keywords)]\n",
        "    return filtered_comments\n",
        "\n",
        "# Ambil komentar dari video\n",
        "all_comments = get_video_comments(youtube, video_id)\n",
        "\n",
        "# Filter komentar yang mengandung kata-kata bahasa gaul\n",
        "filtered_comments = filter_comments(all_comments, keywords)\n",
        "\n",
        "# Tampilkan hasil\n",
        "print(f\"Total komentar yang difilter: {len(filtered_comments)}\")\n",
        "for comment in filtered_comments:\n",
        "    print(comment)\n",
        "\n",
        "# Simpan ke file\n",
        "with open('genzzzz.csv', 'a') as f:\n",
        "    for comment in filtered_comments:\n",
        "        f.write(comment + '\\n')"
      ]
    }
  ]
}